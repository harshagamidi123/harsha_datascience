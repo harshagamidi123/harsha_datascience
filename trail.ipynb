{
 "cells": [
  {
   "cell_type": "code",
   "execution_count": 4,
   "metadata": {},
   "outputs": [
    {
     "name": "stdout",
     "output_type": "stream",
     "text": [
      "harsha\n"
     ]
    }
   ],
   "source": [
    "print('harsha')"
   ]
  },
  {
   "cell_type": "code",
   "execution_count": 1,
   "metadata": {},
   "outputs": [
    {
     "name": "stdout",
     "output_type": "stream",
     "text": [
      "Collecting darts\n",
      "  Downloading darts-0.21.0-py3-none-any.whl (424 kB)\n",
      "Requirement already satisfied: ipython>=5.0.0 in c:\\users\\harsha\\anaconda3\\lib\\site-packages (from darts) (7.29.0)\n",
      "Collecting catboost>=1.0.6\n",
      "  Downloading catboost-1.1-cp39-none-win_amd64.whl (74.0 MB)\n",
      "Collecting statsmodels>=0.13.0\n",
      "  Downloading statsmodels-0.13.2-cp39-cp39-win_amd64.whl (9.1 MB)\n",
      "Requirement already satisfied: numpy>=1.19.0 in c:\\users\\harsha\\anaconda3\\lib\\site-packages (from darts) (1.20.3)\n",
      "Requirement already satisfied: requests>=2.22.0 in c:\\users\\harsha\\anaconda3\\lib\\site-packages (from darts) (2.26.0)\n",
      "Collecting statsforecast==0.6.0\n",
      "  Downloading statsforecast-0.6.0-py3-none-any.whl (44 kB)\n",
      "Requirement already satisfied: pandas>=1.0.5 in c:\\users\\harsha\\anaconda3\\lib\\site-packages (from darts) (1.3.4)\n",
      "Collecting pmdarima>=1.8.0\n",
      "  Downloading pmdarima-2.0.1-cp39-cp39-win_amd64.whl (571 kB)\n",
      "Collecting prophet>=1.1\n",
      "  Downloading prophet-1.1.1-cp39-cp39-win_amd64.whl (12.1 MB)\n",
      "Collecting tbats>=1.1.0\n",
      "  Downloading tbats-1.1.0-py3-none-any.whl (43 kB)\n",
      "Requirement already satisfied: tqdm>=4.60.0 in c:\\users\\harsha\\anaconda3\\lib\\site-packages (from darts) (4.62.3)\n",
      "Requirement already satisfied: matplotlib>=3.3.0 in c:\\users\\harsha\\anaconda3\\lib\\site-packages (from darts) (3.4.3)\n",
      "Collecting nfoursid>=1.0.0\n",
      "  Downloading nfoursid-1.0.1-py3-none-any.whl (16 kB)\n",
      "Requirement already satisfied: joblib>=0.16.0 in c:\\users\\harsha\\anaconda3\\lib\\site-packages (from darts) (1.1.0)\n",
      "Collecting pytorch-lightning>=1.5.0\n",
      "  Downloading pytorch_lightning-1.7.7-py3-none-any.whl (708 kB)\n",
      "Collecting holidays>=0.11.1\n",
      "  Downloading holidays-0.16-py3-none-any.whl (184 kB)\n",
      "Requirement already satisfied: scipy>=1.3.2 in c:\\users\\harsha\\anaconda3\\lib\\site-packages (from darts) (1.7.1)\n",
      "Collecting lightgbm>=2.2.3\n",
      "  Downloading lightgbm-3.3.2-py3-none-win_amd64.whl (1.0 MB)\n",
      "Collecting scikit-learn>=1.0.1\n",
      "  Downloading scikit_learn-1.1.2-cp39-cp39-win_amd64.whl (7.4 MB)\n",
      "Collecting torch>=1.8.0\n",
      "  Downloading torch-1.12.1-cp39-cp39-win_amd64.whl (161.8 MB)\n",
      "Collecting xarray>=0.17.0\n",
      "  Downloading xarray-2022.6.0-py3-none-any.whl (927 kB)\n",
      "Requirement already satisfied: numba in c:\\users\\harsha\\anaconda3\\lib\\site-packages (from statsforecast==0.6.0->darts) (0.54.1)\n",
      "Requirement already satisfied: plotly in c:\\users\\harsha\\anaconda3\\lib\\site-packages (from catboost>=1.0.6->darts) (5.6.0)\n",
      "Requirement already satisfied: six in c:\\users\\harsha\\anaconda3\\lib\\site-packages (from catboost>=1.0.6->darts) (1.16.0)\n",
      "Collecting graphviz\n",
      "  Downloading graphviz-0.20.1-py3-none-any.whl (47 kB)\n",
      "Collecting hijri-converter\n",
      "  Downloading hijri_converter-2.2.4-py3-none-any.whl (14 kB)\n",
      "Requirement already satisfied: python-dateutil in c:\\users\\harsha\\anaconda3\\lib\\site-packages (from holidays>=0.11.1->darts) (2.8.2)\n",
      "Collecting convertdate>=2.3.0\n",
      "  Downloading convertdate-2.4.0-py3-none-any.whl (47 kB)\n",
      "Collecting korean-lunar-calendar\n",
      "  Downloading korean_lunar_calendar-0.3.1-py3-none-any.whl (9.0 kB)\n",
      "Collecting pymeeus<=1,>=0.3.13\n",
      "  Downloading PyMeeus-0.5.11.tar.gz (5.4 MB)\n",
      "Requirement already satisfied: pickleshare in c:\\users\\harsha\\anaconda3\\lib\\site-packages (from ipython>=5.0.0->darts) (0.7.5)\n",
      "Requirement already satisfied: setuptools>=18.5 in c:\\users\\harsha\\anaconda3\\lib\\site-packages (from ipython>=5.0.0->darts) (58.0.4)\n",
      "Requirement already satisfied: jedi>=0.16 in c:\\users\\harsha\\anaconda3\\lib\\site-packages (from ipython>=5.0.0->darts) (0.18.0)\n",
      "Requirement already satisfied: backcall in c:\\users\\harsha\\anaconda3\\lib\\site-packages (from ipython>=5.0.0->darts) (0.2.0)\n",
      "Requirement already satisfied: prompt-toolkit!=3.0.0,!=3.0.1,<3.1.0,>=2.0.0 in c:\\users\\harsha\\anaconda3\\lib\\site-packages (from ipython>=5.0.0->darts) (3.0.20)\n",
      "Requirement already satisfied: decorator in c:\\users\\harsha\\anaconda3\\lib\\site-packages (from ipython>=5.0.0->darts) (5.1.0)\n",
      "Requirement already satisfied: matplotlib-inline in c:\\users\\harsha\\anaconda3\\lib\\site-packages (from ipython>=5.0.0->darts) (0.1.2)\n",
      "Requirement already satisfied: pygments in c:\\users\\harsha\\anaconda3\\lib\\site-packages (from ipython>=5.0.0->darts) (2.10.0)\n",
      "Requirement already satisfied: traitlets>=4.2 in c:\\users\\harsha\\anaconda3\\lib\\site-packages (from ipython>=5.0.0->darts) (5.1.0)\n",
      "Requirement already satisfied: colorama in c:\\users\\harsha\\anaconda3\\lib\\site-packages (from ipython>=5.0.0->darts) (0.4.4)\n",
      "Requirement already satisfied: parso<0.9.0,>=0.8.0 in c:\\users\\harsha\\anaconda3\\lib\\site-packages (from jedi>=0.16->ipython>=5.0.0->darts) (0.8.2)\n",
      "Requirement already satisfied: wheel in c:\\users\\harsha\\anaconda3\\lib\\site-packages (from lightgbm>=2.2.3->darts) (0.37.0)\n",
      "Requirement already satisfied: cycler>=0.10 in c:\\users\\harsha\\anaconda3\\lib\\site-packages (from matplotlib>=3.3.0->darts) (0.10.0)\n",
      "Requirement already satisfied: pillow>=6.2.0 in c:\\users\\harsha\\anaconda3\\lib\\site-packages (from matplotlib>=3.3.0->darts) (8.4.0)\n",
      "Requirement already satisfied: pyparsing>=2.2.1 in c:\\users\\harsha\\anaconda3\\lib\\site-packages (from matplotlib>=3.3.0->darts) (3.0.4)\n",
      "Requirement already satisfied: kiwisolver>=1.0.1 in c:\\users\\harsha\\anaconda3\\lib\\site-packages (from matplotlib>=3.3.0->darts) (1.3.1)\n",
      "Requirement already satisfied: pytz>=2017.3 in c:\\users\\harsha\\anaconda3\\lib\\site-packages (from pandas>=1.0.5->darts) (2021.3)\n",
      "Collecting numpy>=1.19.0\n",
      "  Downloading numpy-1.23.3-cp39-cp39-win_amd64.whl (14.7 MB)\n",
      "Requirement already satisfied: urllib3 in c:\\users\\harsha\\anaconda3\\lib\\site-packages (from pmdarima>=1.8.0->darts) (1.26.7)\n",
      "Requirement already satisfied: Cython!=0.29.18,!=0.29.31,>=0.29 in c:\\users\\harsha\\anaconda3\\lib\\site-packages (from pmdarima>=1.8.0->darts) (0.29.28)\n",
      "Requirement already satisfied: wcwidth in c:\\users\\harsha\\anaconda3\\lib\\site-packages (from prompt-toolkit!=3.0.0,!=3.0.1,<3.1.0,>=2.0.0->ipython>=5.0.0->darts) (0.2.5)\n",
      "Collecting cmdstanpy>=1.0.4\n",
      "  Downloading cmdstanpy-1.0.7-py3-none-any.whl (80 kB)\n",
      "Collecting LunarCalendar>=0.0.9\n",
      "  Downloading LunarCalendar-0.0.9-py2.py3-none-any.whl (18 kB)\n",
      "Collecting setuptools-git>=1.2\n",
      "  Downloading setuptools_git-1.2-py2.py3-none-any.whl (10 kB)\n",
      "Requirement already satisfied: ujson in c:\\users\\harsha\\anaconda3\\lib\\site-packages (from cmdstanpy>=1.0.4->prophet>=1.1->darts) (4.0.2)\n",
      "Collecting ephem>=3.7.5.3\n",
      "  Downloading ephem-4.1.3-cp39-cp39-win_amd64.whl (1.4 MB)\n",
      "Collecting tensorboard>=2.9.1\n",
      "  Downloading tensorboard-2.10.1-py3-none-any.whl (5.9 MB)\n",
      "Requirement already satisfied: fsspec[http]!=2021.06.0,>=2021.05.0 in c:\\users\\harsha\\anaconda3\\lib\\site-packages (from pytorch-lightning>=1.5.0->darts) (2021.10.1)\n",
      "Collecting torchmetrics>=0.7.0\n",
      "  Downloading torchmetrics-0.9.3-py3-none-any.whl (419 kB)\n",
      "Collecting pyDeprecate>=0.3.1\n",
      "  Downloading pyDeprecate-0.3.2-py3-none-any.whl (10 kB)\n",
      "Requirement already satisfied: packaging>=17.0 in c:\\users\\harsha\\anaconda3\\lib\\site-packages (from pytorch-lightning>=1.5.0->darts) (21.0)\n",
      "Collecting typing-extensions>=4.0.0\n",
      "  Downloading typing_extensions-4.3.0-py3-none-any.whl (25 kB)\n",
      "Requirement already satisfied: PyYAML>=5.4 in c:\\users\\harsha\\anaconda3\\lib\\site-packages (from pytorch-lightning>=1.5.0->darts) (6.0)\n",
      "Collecting aiohttp\n",
      "  Downloading aiohttp-3.8.3-cp39-cp39-win_amd64.whl (323 kB)\n",
      "Requirement already satisfied: charset-normalizer~=2.0.0 in c:\\users\\harsha\\anaconda3\\lib\\site-packages (from requests>=2.22.0->darts) (2.0.4)\n",
      "Requirement already satisfied: certifi>=2017.4.17 in c:\\users\\harsha\\anaconda3\\lib\\site-packages (from requests>=2.22.0->darts) (2021.10.8)\n",
      "Requirement already satisfied: idna<4,>=2.5 in c:\\users\\harsha\\anaconda3\\lib\\site-packages (from requests>=2.22.0->darts) (3.2)\n",
      "Requirement already satisfied: threadpoolctl>=2.0.0 in c:\\users\\harsha\\anaconda3\\lib\\site-packages (from scikit-learn>=1.0.1->darts) (2.2.0)\n",
      "Collecting numpy>=1.19.0\n",
      "  Downloading numpy-1.22.4-cp39-cp39-win_amd64.whl (14.7 MB)\n",
      "Collecting packaging>=17.0\n",
      "  Using cached packaging-21.3-py3-none-any.whl (40 kB)\n",
      "Requirement already satisfied: patsy>=0.5.2 in c:\\users\\harsha\\anaconda3\\lib\\site-packages (from statsmodels>=0.13.0->darts) (0.5.2)\n",
      "Requirement already satisfied: markdown>=2.6.8 in c:\\users\\harsha\\anaconda3\\lib\\site-packages (from tensorboard>=2.9.1->pytorch-lightning>=1.5.0->darts) (3.3.6)\n",
      "Requirement already satisfied: tensorboard-plugin-wit>=1.6.0 in c:\\users\\harsha\\anaconda3\\lib\\site-packages (from tensorboard>=2.9.1->pytorch-lightning>=1.5.0->darts) (1.8.1)\n",
      "Requirement already satisfied: absl-py>=0.4 in c:\\users\\harsha\\anaconda3\\lib\\site-packages (from tensorboard>=2.9.1->pytorch-lightning>=1.5.0->darts) (1.0.0)\n",
      "Requirement already satisfied: tensorboard-data-server<0.7.0,>=0.6.0 in c:\\users\\harsha\\anaconda3\\lib\\site-packages (from tensorboard>=2.9.1->pytorch-lightning>=1.5.0->darts) (0.6.1)\n",
      "Requirement already satisfied: google-auth<3,>=1.6.3 in c:\\users\\harsha\\anaconda3\\lib\\site-packages (from tensorboard>=2.9.1->pytorch-lightning>=1.5.0->darts) (2.6.2)\n",
      "Requirement already satisfied: google-auth-oauthlib<0.5,>=0.4.1 in c:\\users\\harsha\\anaconda3\\lib\\site-packages (from tensorboard>=2.9.1->pytorch-lightning>=1.5.0->darts) (0.4.6)\n",
      "Requirement already satisfied: werkzeug>=1.0.1 in c:\\users\\harsha\\anaconda3\\lib\\site-packages (from tensorboard>=2.9.1->pytorch-lightning>=1.5.0->darts) (2.0.2)\n",
      "Requirement already satisfied: grpcio>=1.24.3 in c:\\users\\harsha\\anaconda3\\lib\\site-packages (from tensorboard>=2.9.1->pytorch-lightning>=1.5.0->darts) (1.44.0)\n",
      "Requirement already satisfied: protobuf<3.20,>=3.9.2 in c:\\users\\harsha\\anaconda3\\lib\\site-packages (from tensorboard>=2.9.1->pytorch-lightning>=1.5.0->darts) (3.19.4)\n",
      "Requirement already satisfied: rsa<5,>=3.1.4 in c:\\users\\harsha\\anaconda3\\lib\\site-packages (from google-auth<3,>=1.6.3->tensorboard>=2.9.1->pytorch-lightning>=1.5.0->darts) (4.8)\n",
      "Requirement already satisfied: pyasn1-modules>=0.2.1 in c:\\users\\harsha\\anaconda3\\lib\\site-packages (from google-auth<3,>=1.6.3->tensorboard>=2.9.1->pytorch-lightning>=1.5.0->darts) (0.2.8)\n",
      "Requirement already satisfied: cachetools<6.0,>=2.0.0 in c:\\users\\harsha\\anaconda3\\lib\\site-packages (from google-auth<3,>=1.6.3->tensorboard>=2.9.1->pytorch-lightning>=1.5.0->darts) (5.0.0)\n",
      "Requirement already satisfied: requests-oauthlib>=0.7.0 in c:\\users\\harsha\\anaconda3\\lib\\site-packages (from google-auth-oauthlib<0.5,>=0.4.1->tensorboard>=2.9.1->pytorch-lightning>=1.5.0->darts) (1.3.1)\n",
      "Requirement already satisfied: importlib-metadata>=4.4 in c:\\users\\harsha\\anaconda3\\lib\\site-packages (from markdown>=2.6.8->tensorboard>=2.9.1->pytorch-lightning>=1.5.0->darts) (4.8.1)\n",
      "Requirement already satisfied: zipp>=0.5 in c:\\users\\harsha\\anaconda3\\lib\\site-packages (from importlib-metadata>=4.4->markdown>=2.6.8->tensorboard>=2.9.1->pytorch-lightning>=1.5.0->darts) (3.6.0)\n",
      "Requirement already satisfied: pyasn1<0.5.0,>=0.4.6 in c:\\users\\harsha\\anaconda3\\lib\\site-packages (from pyasn1-modules>=0.2.1->google-auth<3,>=1.6.3->tensorboard>=2.9.1->pytorch-lightning>=1.5.0->darts) (0.4.8)\n",
      "Requirement already satisfied: oauthlib>=3.0.0 in c:\\users\\harsha\\anaconda3\\lib\\site-packages (from requests-oauthlib>=0.7.0->google-auth-oauthlib<0.5,>=0.4.1->tensorboard>=2.9.1->pytorch-lightning>=1.5.0->darts) (3.2.0)\n",
      "Collecting multidict<7.0,>=4.5\n",
      "  Downloading multidict-6.0.2-cp39-cp39-win_amd64.whl (28 kB)\n",
      "Requirement already satisfied: attrs>=17.3.0 in c:\\users\\harsha\\anaconda3\\lib\\site-packages (from aiohttp->fsspec[http]!=2021.06.0,>=2021.05.0->pytorch-lightning>=1.5.0->darts) (21.2.0)\n",
      "Collecting yarl<2.0,>=1.0\n",
      "  Downloading yarl-1.8.1-cp39-cp39-win_amd64.whl (56 kB)\n",
      "Collecting frozenlist>=1.1.1\n",
      "  Downloading frozenlist-1.3.1-cp39-cp39-win_amd64.whl (34 kB)\n",
      "Collecting async-timeout<5.0,>=4.0.0a3\n",
      "  Downloading async_timeout-4.0.2-py3-none-any.whl (5.8 kB)\n",
      "Collecting aiosignal>=1.1.2\n",
      "  Downloading aiosignal-1.2.0-py3-none-any.whl (8.2 kB)\n",
      "Collecting numba\n",
      "  Downloading numba-0.56.2-cp39-cp39-win_amd64.whl (2.5 MB)\n",
      "Collecting llvmlite<0.40,>=0.39.0dev0\n",
      "  Downloading llvmlite-0.39.1-cp39-cp39-win_amd64.whl (23.2 MB)\n",
      "Requirement already satisfied: tenacity>=6.2.0 in c:\\users\\harsha\\anaconda3\\lib\\site-packages (from plotly->catboost>=1.0.6->darts) (8.0.1)\n",
      "Building wheels for collected packages: pymeeus\n",
      "  Building wheel for pymeeus (setup.py): started\n",
      "  Building wheel for pymeeus (setup.py): finished with status 'done'\n",
      "  Created wheel for pymeeus: filename=PyMeeus-0.5.11-py3-none-any.whl size=730984 sha256=12a06eb78eb9a372f74febf035790f28750930e67f84cabf7294ce992684239a\n",
      "  Stored in directory: c:\\users\\harsha\\appdata\\local\\pip\\cache\\wheels\\33\\3d\\82\\4579e9cca41ff991140b2e050bc6df3a38292f26e4fa06b15d\n",
      "Successfully built pymeeus\n",
      "Installing collected packages: numpy, multidict, frozenlist, yarl, typing-extensions, pymeeus, packaging, async-timeout, aiosignal, torch, statsmodels, scikit-learn, llvmlite, korean-lunar-calendar, hijri-converter, ephem, convertdate, aiohttp, torchmetrics, tensorboard, setuptools-git, pyDeprecate, pmdarima, numba, LunarCalendar, holidays, graphviz, cmdstanpy, xarray, tbats, statsforecast, pytorch-lightning, prophet, nfoursid, lightgbm, catboost, darts\n",
      "  Attempting uninstall: numpy\n",
      "    Found existing installation: numpy 1.20.3\n",
      "    Uninstalling numpy-1.20.3:\n",
      "      Successfully uninstalled numpy-1.20.3\n",
      "  Attempting uninstall: typing-extensions\n",
      "    Found existing installation: typing-extensions 3.10.0.2\n",
      "    Uninstalling typing-extensions-3.10.0.2:\n"
     ]
    },
    {
     "name": "stderr",
     "output_type": "stream",
     "text": [
      "ERROR: Could not install packages due to an OSError: [Errno 2] No such file or directory: 'c:\\\\users\\\\harsha\\\\anaconda3\\\\lib\\\\site-packages\\\\__pycache__\\\\typing_extensions.cpython-39.pyc'\n",
      "\n"
     ]
    }
   ],
   "source": [
    "%pip install darts"
   ]
  },
  {
   "cell_type": "code",
   "execution_count": 4,
   "metadata": {},
   "outputs": [
    {
     "name": "stdout",
     "output_type": "stream",
     "text": [
      "Collecting pandasNote: you may need to restart the kernel to use updated packages.\n",
      "\n",
      "  Downloading pandas-1.5.0-cp38-cp38-win_amd64.whl (11.0 MB)\n",
      "Requirement already satisfied: python-dateutil>=2.8.1 in c:\\users\\harsha\\appdata\\roaming\\python\\python38\\site-packages (from pandas) (2.8.2)\n",
      "Collecting pytz>=2020.1\n",
      "  Downloading pytz-2022.2.1-py2.py3-none-any.whl (500 kB)\n",
      "Collecting numpy>=1.20.3; python_version < \"3.10\"\n",
      "  Downloading numpy-1.23.3-cp38-cp38-win_amd64.whl (14.7 MB)\n",
      "Requirement already satisfied: six>=1.5 in c:\\users\\harsha\\appdata\\roaming\\python\\python38\\site-packages (from python-dateutil>=2.8.1->pandas) (1.16.0)\n",
      "Installing collected packages: pytz, numpy, pandas\n",
      "Successfully installed numpy-1.23.3 pandas-1.5.0 pytz-2022.2.1\n"
     ]
    },
    {
     "name": "stderr",
     "output_type": "stream",
     "text": [
      "WARNING: You are using pip version 20.2.3; however, version 22.2.2 is available.\n",
      "You should consider upgrading via the 'c:\\Users\\harsha\\AppData\\Local\\Programs\\Python\\Python38\\python.exe -m pip install --upgrade pip' command.\n"
     ]
    }
   ],
   "source": [
    "%pip install pandas"
   ]
  }
 ],
 "metadata": {
  "kernelspec": {
   "display_name": "Python 3.8.7 64-bit",
   "language": "python",
   "name": "python3"
  },
  "language_info": {
   "codemirror_mode": {
    "name": "ipython",
    "version": 3
   },
   "file_extension": ".py",
   "mimetype": "text/x-python",
   "name": "python",
   "nbconvert_exporter": "python",
   "pygments_lexer": "ipython3",
   "version": "3.8.7"
  },
  "orig_nbformat": 4,
  "vscode": {
   "interpreter": {
    "hash": "d8334149ebe58489a7ee16903176cc3d265f9f06705a282f32ffd28ae28e4705"
   }
  }
 },
 "nbformat": 4,
 "nbformat_minor": 2
}
